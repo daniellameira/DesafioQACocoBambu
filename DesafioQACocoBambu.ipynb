{
 "cells": [
  {
   "cell_type": "code",
   "execution_count": 1,
   "id": "42546bb2",
   "metadata": {},
   "outputs": [],
   "source": [
    "from webbrowser import Chrome\n",
    "from selenium import webdriver\n",
    "from selenium.webdriver.chrome.service import Service\n",
    "import time\n",
    "\n",
    "#Configurando o navegador e abrindo o site do coco Bambu\n",
    "navegador = webdriver.Chrome()\n",
    "navegador.get(\"https://app.cocobambu.com/delivery\")\n",
    "navegador.maximize_window()\n",
    "#Entrando no ambiente de login\n",
    "navegador.find_element('xpath','/html/body/app-root/ion-app/cb-nav-bar/div/div[4]/span').click()\n",
    "time.sleep(1)\n",
    "navegador.find_element('xpath','/html/body/app-root/ion-app/main/ion-router-outlet/profile-root/ion-content/section[1]/div/span').click()\n",
    "time.sleep(1)\n",
    "#Adicionando um usuário e senha\n",
    "navegador.find_element('xpath','/html/body/app-root/ion-app/main/ion-router-outlet/app-login/div/div/form/div[1]/ion-input/input').send_keys('danielfilippe@hotmail.com')\n",
    "navegador.find_element('xpath','/html/body/app-root/ion-app/main/ion-router-outlet/app-login/div/div/form/div[3]/ion-input/input').send_keys('Dan!el123')\n",
    "time.sleep(1)\n",
    "#entrar\n",
    "navegador.find_element('xpath','/html/body/app-root/ion-app/main/ion-router-outlet/app-login/div/div/div[2]/button/span').click()\n",
    "time.sleep(7)\n",
    "navegador.find_element('xpath','/html/body/app-root/ion-app/div/div/desktop-modal/div/email-spam-popup/div/div/base-button/button').click()\n",
    "#Tempo para Inserir o código manualmente!\n",
    "time.sleep(20)\n",
    "navegador.find_element('xpath','/html/body/app-root/ion-app/main/ion-router-outlet/app-login/div/div/div[3]/button[1]/span').click()\n",
    "time.sleep(7)\n",
    "#Tela mostrando o usuário cadastrado\n",
    "navegador.find_element('xpath','/html/body/app-root/ion-app/cb-nav-bar/div/div[4]/span').click()\n",
    "time.sleep(10)"
   ]
  },
  {
   "cell_type": "code",
   "execution_count": 2,
   "id": "2d9fb842",
   "metadata": {},
   "outputs": [],
   "source": [
    "#Configurando o navegador e abrindo o site do coco Bambu\n",
    "navegador = webdriver.Chrome()\n",
    "navegador.get(\"https://app.cocobambu.com/delivery\")\n",
    "navegador.maximize_window()\n",
    "#Entrando no ambiente de login\n",
    "navegador.find_element('xpath','/html/body/app-root/ion-app/cb-nav-bar/div/div[4]/span').click()\n",
    "time.sleep(1)\n",
    "navegador.find_element('xpath','/html/body/app-root/ion-app/main/ion-router-outlet/profile-root/ion-content/section[1]/div/span').click()\n",
    "time.sleep(1)\n",
    "#Adicionando um usuário e senha inválidos\n",
    "navegador.find_element('xpath','/html/body/app-root/ion-app/main/ion-router-outlet/app-login/div/div/form/div[1]/ion-input/input').send_keys('daniel@email.com')\n",
    "navegador.find_element('xpath','/html/body/app-root/ion-app/main/ion-router-outlet/app-login/div/div/form/div[3]/ion-input/input').send_keys('Dan@@@123')\n",
    "time.sleep(1)\n",
    "#entrar\n",
    "navegador.find_element('xpath','/html/body/app-root/ion-app/main/ion-router-outlet/app-login/div/div/div[2]/button/span').click()\n",
    "time.sleep(7)\n"
   ]
  },
  {
   "cell_type": "code",
   "execution_count": 3,
   "id": "f420655f",
   "metadata": {},
   "outputs": [],
   "source": [
    "#Configurando o navegador e abrindo o site do coco Bambu\n",
    "navegador = webdriver.Chrome()\n",
    "navegador.get(\"https://app.cocobambu.com/delivery\")\n",
    "navegador.maximize_window()\n",
    "#Entrando no ambiente de login\n",
    "navegador.find_element('xpath','/html/body/app-root/ion-app/cb-nav-bar/div/div[4]/span').click()\n",
    "time.sleep(1)\n",
    "navegador.find_element('xpath','/html/body/app-root/ion-app/main/ion-router-outlet/profile-root/ion-content/section[1]/div/span').click()\n",
    "time.sleep(1)\n",
    "#Adicionando um usuário e senha inválidos\n",
    "navegador.find_element('xpath','/html/body/app-root/ion-app/main/ion-router-outlet/app-login/div/div/form/div[1]/ion-input/input').send_keys('daniel')\n",
    "navegador.find_element('xpath','/html/body/app-root/ion-app/main/ion-router-outlet/app-login/div/div/form/div[3]/ion-input/input').send_keys('Dan@@@123')\n",
    "time.sleep(1)\n",
    "#entrar\n",
    "navegador.find_element('xpath','/html/body/app-root/ion-app/main/ion-router-outlet/app-login/div/div/div[2]/button/span').click()\n",
    "time.sleep(7)\n"
   ]
  },
  {
   "cell_type": "code",
   "execution_count": 4,
   "id": "0931a2fc",
   "metadata": {},
   "outputs": [],
   "source": [
    "#Configurando o navegador e abrindo o site do coco Bambu\n",
    "navegador = webdriver.Chrome()\n",
    "navegador.get(\"https://app.cocobambu.com/delivery\")\n",
    "navegador.maximize_window()\n",
    "#Entrando no ambiente de login\n",
    "navegador.find_element('xpath','/html/body/app-root/ion-app/cb-nav-bar/div/div[4]/span').click()\n",
    "time.sleep(1)\n",
    "navegador.find_element('xpath','/html/body/app-root/ion-app/main/ion-router-outlet/profile-root/ion-content/section[1]/div/span').click()\n",
    "time.sleep(1)\n",
    "#Adicionando um usuário e senha inválidos\n",
    "navegador.find_element('xpath','/html/body/app-root/ion-app/main/ion-router-outlet/app-login/div/div/form/div[1]/ion-input/input').send_keys('daniel@email.com')\n",
    "navegador.find_element('xpath','/html/body/app-root/ion-app/main/ion-router-outlet/app-login/div/div/form/div[3]/ion-input/input').send_keys('Teste!@#12345')\n",
    "time.sleep(1)\n",
    "#entrar\n",
    "navegador.find_element('xpath','/html/body/app-root/ion-app/main/ion-router-outlet/app-login/div/div/form/div[3]/span/div/img').click()\n",
    "time.sleep(7)\n"
   ]
  },
  {
   "cell_type": "code",
   "execution_count": null,
   "id": "565e8855",
   "metadata": {},
   "outputs": [],
   "source": []
  }
 ],
 "metadata": {
  "kernelspec": {
   "display_name": "Python 3 (ipykernel)",
   "language": "python",
   "name": "python3"
  },
  "language_info": {
   "codemirror_mode": {
    "name": "ipython",
    "version": 3
   },
   "file_extension": ".py",
   "mimetype": "text/x-python",
   "name": "python",
   "nbconvert_exporter": "python",
   "pygments_lexer": "ipython3",
   "version": "3.11.5"
  }
 },
 "nbformat": 4,
 "nbformat_minor": 5
}
